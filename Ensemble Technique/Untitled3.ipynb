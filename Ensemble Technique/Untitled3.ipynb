{
 "cells": [
  {
   "cell_type": "code",
   "execution_count": 2,
   "id": "a038381a",
   "metadata": {},
   "outputs": [
    {
     "name": "stdout",
     "output_type": "stream",
     "text": [
      "53\n"
     ]
    }
   ],
   "source": [
    "import numpy as np\n",
    "import pandas as pd\n",
    "\n",
    "li = [1,2,5]\n",
    "x = 45\n",
    "\n",
    "print(sum(li,x))"
   ]
  },
  {
   "cell_type": "code",
   "execution_count": 2,
   "id": "62dc684c",
   "metadata": {},
   "outputs": [
    {
     "name": "stdout",
     "output_type": "stream",
     "text": [
      "False\n"
     ]
    }
   ],
   "source": [
    "x = bool()\n",
    "\n",
    "print(x)"
   ]
  },
  {
   "cell_type": "code",
   "execution_count": 6,
   "id": "68afba13",
   "metadata": {},
   "outputs": [
    {
     "data": {
      "text/plain": [
       "dtype('float64')"
      ]
     },
     "execution_count": 6,
     "metadata": {},
     "output_type": "execute_result"
    }
   ],
   "source": [
    "percentiles = [98, 76.37, 55.55, 69, 88]\n",
    "\n",
    "first_subject = np.array(percentiles)\n",
    "\n",
    "first_subject.dtype\n"
   ]
  },
  {
   "cell_type": "code",
   "execution_count": 8,
   "id": "d6f03176",
   "metadata": {},
   "outputs": [
    {
     "name": "stdout",
     "output_type": "stream",
     "text": [
      "13\n"
     ]
    }
   ],
   "source": [
    "a = np.array([1,2,3,4,5]) \n",
    "\n",
    "b = np.arange(0,10,2) \n",
    "\n",
    "c = a + b \n",
    "\n",
    "print (c[4])"
   ]
  },
  {
   "cell_type": "code",
   "execution_count": 33,
   "id": "fbf9c493",
   "metadata": {},
   "outputs": [],
   "source": [
    "df = pd.DataFrame([-0.5,-0.25,-0.8,0.2,0.4,0.7,0.8])"
   ]
  },
  {
   "cell_type": "code",
   "execution_count": 34,
   "id": "4168464c",
   "metadata": {},
   "outputs": [
    {
     "data": {
      "text/html": [
       "<div>\n",
       "<style scoped>\n",
       "    .dataframe tbody tr th:only-of-type {\n",
       "        vertical-align: middle;\n",
       "    }\n",
       "\n",
       "    .dataframe tbody tr th {\n",
       "        vertical-align: top;\n",
       "    }\n",
       "\n",
       "    .dataframe thead th {\n",
       "        text-align: right;\n",
       "    }\n",
       "</style>\n",
       "<table border=\"1\" class=\"dataframe\">\n",
       "  <thead>\n",
       "    <tr style=\"text-align: right;\">\n",
       "      <th></th>\n",
       "      <th>0</th>\n",
       "    </tr>\n",
       "  </thead>\n",
       "  <tbody>\n",
       "    <tr>\n",
       "      <th>0</th>\n",
       "      <td>NaN</td>\n",
       "    </tr>\n",
       "    <tr>\n",
       "      <th>1</th>\n",
       "      <td>-0.25</td>\n",
       "    </tr>\n",
       "    <tr>\n",
       "      <th>2</th>\n",
       "      <td>NaN</td>\n",
       "    </tr>\n",
       "    <tr>\n",
       "      <th>3</th>\n",
       "      <td>0.20</td>\n",
       "    </tr>\n",
       "    <tr>\n",
       "      <th>4</th>\n",
       "      <td>NaN</td>\n",
       "    </tr>\n",
       "    <tr>\n",
       "      <th>5</th>\n",
       "      <td>NaN</td>\n",
       "    </tr>\n",
       "    <tr>\n",
       "      <th>6</th>\n",
       "      <td>NaN</td>\n",
       "    </tr>\n",
       "  </tbody>\n",
       "</table>\n",
       "</div>"
      ],
      "text/plain": [
       "      0\n",
       "0   NaN\n",
       "1 -0.25\n",
       "2   NaN\n",
       "3  0.20\n",
       "4   NaN\n",
       "5   NaN\n",
       "6   NaN"
      ]
     },
     "execution_count": 34,
     "metadata": {},
     "output_type": "execute_result"
    }
   ],
   "source": [
    "#df.between(-0.7, 0.5)\n",
    "\n",
    "df[(df > -0.3) & (df <= 0.3)]"
   ]
  },
  {
   "cell_type": "code",
   "execution_count": 36,
   "id": "501fcdda",
   "metadata": {},
   "outputs": [
    {
     "name": "stdout",
     "output_type": "stream",
     "text": [
      "knt is 1\n",
      "knt is 2\n",
      "knt is 3\n",
      "knt is 4\n",
      "knt is 5\n",
      "knt is 6\n",
      "knt is 7\n",
      "knt is 8\n",
      "knt is 9\n",
      "knt is 10\n",
      "knt is 11\n",
      "knt is 12\n",
      "knt is 13\n",
      "knt is 14\n",
      "knt is 15\n",
      "knt is 16\n",
      "knt is 17\n",
      "knt is 18\n",
      "knt is 19\n",
      "knt is 20\n",
      "knt is 21\n",
      "knt is 22\n",
      "knt is 23\n",
      "knt is 24\n",
      "knt is 25\n",
      "knt is 26\n",
      "knt is 27\n",
      "knt is 28\n",
      "knt is 29\n",
      "knt is 30\n",
      "knt is 31\n",
      "knt is 32\n",
      "knt is 33\n",
      "knt is 34\n",
      "knt is 35\n",
      "knt is 36\n",
      "knt is 37\n",
      "knt is 38\n",
      "knt is 39\n",
      "knt is 40\n",
      "knt is 41\n",
      "knt is 42\n",
      "knt is 43\n",
      "knt is 44\n",
      "knt is 45\n",
      "knt is 46\n",
      "knt is 47\n",
      "knt is 48\n",
      "knt is 49\n",
      "knt is 50\n",
      "knt is 51\n",
      "knt is 52\n",
      "knt is 53\n",
      "knt is 54\n",
      "knt is 55\n",
      "knt is 56\n",
      "knt is 57\n",
      "knt is 58\n",
      "knt is 59\n",
      "knt is 60\n",
      "knt is 61\n",
      "knt is 62\n",
      "knt is 63\n",
      "knt is 64\n",
      "knt is 65\n",
      "knt is 66\n",
      "knt is 67\n",
      "knt is 68\n",
      "knt is 69\n",
      "knt is 70\n",
      "knt is 71\n",
      "knt is 72\n",
      "knt is 73\n",
      "knt is 74\n",
      "knt is 75\n",
      "knt is 76\n",
      "knt is 77\n",
      "knt is 78\n",
      "knt is 79\n",
      "knt is 80\n",
      "knt is 81\n",
      "knt is 82\n",
      "knt is 83\n",
      "knt is 84\n",
      "knt is 85\n",
      "knt is 86\n",
      "knt is 87\n",
      "knt is 88\n",
      "knt is 89\n",
      "knt is 90\n",
      "knt is 91\n",
      "knt is 92\n",
      "knt is 93\n",
      "knt is 94\n",
      "knt is 95\n",
      "knt is 96\n",
      "knt is 97\n",
      "knt is 98\n",
      "knt is 99\n",
      "knt is 100\n",
      "knt is 101\n",
      "knt is 102\n",
      "knt is 103\n",
      "knt is 104\n",
      "knt is 105\n",
      "knt is 106\n",
      "knt is 107\n",
      "knt is 108\n",
      "knt is 109\n",
      "knt is 110\n",
      "knt is 111\n",
      "knt is 112\n",
      "knt is 113\n",
      "knt is 114\n",
      "knt is 115\n",
      "knt is 116\n",
      "knt is 117\n",
      "knt is 118\n",
      "knt is 119\n",
      "knt is 120\n",
      "knt is 121\n",
      "knt is 122\n",
      "knt is 123\n",
      "knt is 124\n",
      "knt is 125\n",
      "knt is 126\n",
      "knt is 127\n",
      "knt is 128\n",
      "knt is 129\n",
      "knt is 130\n",
      "knt is 131\n",
      "knt is 132\n",
      "knt is 133\n",
      "knt is 134\n",
      "knt is 135\n",
      "knt is 136\n",
      "knt is 137\n",
      "knt is 138\n",
      "knt is 139\n",
      "knt is 140\n",
      "knt is 141\n",
      "knt is 142\n",
      "knt is 143\n",
      "knt is 144\n",
      "knt is 145\n",
      "knt is 146\n",
      "knt is 147\n",
      "knt is 148\n",
      "knt is 149\n",
      "knt is 150\n",
      "knt is 151\n",
      "knt is 152\n",
      "knt is 153\n",
      "knt is 154\n",
      "knt is 155\n",
      "knt is 156\n",
      "knt is 157\n",
      "knt is 158\n",
      "knt is 159\n",
      "knt is 160\n",
      "knt is 161\n",
      "knt is 162\n",
      "knt is 163\n",
      "knt is 164\n",
      "knt is 165\n",
      "knt is 166\n",
      "knt is 167\n",
      "knt is 168\n",
      "knt is 169\n",
      "knt is 170\n",
      "knt is 171\n",
      "knt is 172\n",
      "knt is 173\n",
      "knt is 174\n",
      "knt is 175\n",
      "knt is 176\n",
      "knt is 177\n",
      "knt is 178\n",
      "knt is 179\n"
     ]
    }
   ],
   "source": [
    "end = 180\n",
    "\n",
    "for knt in range(1,end):\n",
    "\n",
    "    print(\"knt is\",knt)"
   ]
  }
 ],
 "metadata": {
  "kernelspec": {
   "display_name": "Python 3",
   "language": "python",
   "name": "python3"
  },
  "language_info": {
   "codemirror_mode": {
    "name": "ipython",
    "version": 3
   },
   "file_extension": ".py",
   "mimetype": "text/x-python",
   "name": "python",
   "nbconvert_exporter": "python",
   "pygments_lexer": "ipython3",
   "version": "3.8.8"
  }
 },
 "nbformat": 4,
 "nbformat_minor": 5
}
