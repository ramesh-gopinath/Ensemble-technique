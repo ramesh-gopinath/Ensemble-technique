{
 "cells": [
  {
   "cell_type": "code",
   "execution_count": 10,
   "id": "620e00fa",
   "metadata": {},
   "outputs": [
    {
     "name": "stdout",
     "output_type": "stream",
     "text": [
      "Temp resultsDf    Method  ROC score\n",
      "0       1          1\n",
      "ResultsDf    Method  ROC score\n",
      "0       1          1\n",
      "Temp resultsDf    Method  ROC score\n",
      "0       2          4\n",
      "ResultsDf    Method  ROC score\n",
      "0       1          1\n",
      "0       2          4\n",
      "Temp resultsDf    Method  ROC score\n",
      "0       3          9\n",
      "ResultsDf    Method  ROC score\n",
      "0       1          1\n",
      "0       2          4\n",
      "0       3          9\n",
      "Temp resultsDf    Method  ROC score\n",
      "0       4         16\n",
      "ResultsDf    Method  ROC score\n",
      "0       1          1\n",
      "0       2          4\n",
      "0       3          9\n",
      "0       4         16\n",
      "Temp resultsDf    Method  ROC score\n",
      "0       5         25\n",
      "ResultsDf    Method  ROC score\n",
      "0       1          1\n",
      "0       2          4\n",
      "0       3          9\n",
      "0       4         16\n",
      "0       5         25\n",
      "Temp resultsDf    Method  ROC score\n",
      "0       6         36\n",
      "ResultsDf    Method  ROC score\n",
      "0       1          1\n",
      "0       2          4\n",
      "0       3          9\n",
      "0       4         16\n",
      "0       5         25\n",
      "0       6         36\n",
      "Out of loop\n",
      "Final resultsDf    Method  ROC score\n",
      "0       1          1\n",
      "0       2          4\n",
      "0       3          9\n",
      "0       4         16\n",
      "0       5         25\n",
      "0       6         36\n"
     ]
    }
   ],
   "source": [
    "import pandas as pd\n",
    "\n",
    "resultsDf = pd.DataFrame()\n",
    "\n",
    "for i in [1,2,3,4,5,6]:\n",
    "\n",
    "    tempResultsDf = pd.DataFrame({'Method':[i],'ROC score': [i*i]})\n",
    "    print(\"Temp resultsDf\",tempResultsDf.head(10))\n",
    "    resultsDf = pd.concat([resultsDf, tempResultsDf])\n",
    "    print(\"ResultsDf\", resultsDf)\n",
    "    #resultsDf = resultsDf[['Method','ROC score']]\n",
    "    #resultsDf\n",
    "    \n",
    "print(\"Out of loop\")\n",
    "print(\"Final resultsDf\",resultsDf)"
   ]
  },
  {
   "cell_type": "code",
   "execution_count": null,
   "id": "be6bbdd1",
   "metadata": {},
   "outputs": [],
   "source": []
  }
 ],
 "metadata": {
  "kernelspec": {
   "display_name": "Python 3",
   "language": "python",
   "name": "python3"
  },
  "language_info": {
   "codemirror_mode": {
    "name": "ipython",
    "version": 3
   },
   "file_extension": ".py",
   "mimetype": "text/x-python",
   "name": "python",
   "nbconvert_exporter": "python",
   "pygments_lexer": "ipython3",
   "version": "3.8.8"
  }
 },
 "nbformat": 4,
 "nbformat_minor": 5
}
